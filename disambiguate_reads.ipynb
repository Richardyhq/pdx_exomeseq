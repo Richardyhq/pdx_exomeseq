{
 "cells": [
  {
   "cell_type": "code",
   "execution_count": 1,
   "metadata": {
    "collapsed": false
   },
   "outputs": [
    {
     "name": "stderr",
     "output_type": "stream",
     "text": [
      "/home/gway/anaconda3/lib/python3.5/site-packages/statsmodels/compat/pandas.py:56: FutureWarning: The pandas.core.datetools module is deprecated and will be removed in a future version. Please use the pandas.tseries module instead.\n",
      "  from pandas.core import datetools\n"
     ]
    }
   ],
   "source": [
    "import os\n",
    "import pandas as pd\n",
    "\n",
    "import plotnine as gg"
   ]
  },
  {
   "cell_type": "code",
   "execution_count": 2,
   "metadata": {
    "collapsed": false
   },
   "outputs": [
    {
     "name": "stdout",
     "output_type": "stream",
     "text": [
      "Populating the interactive namespace from numpy and matplotlib\n"
     ]
    }
   ],
   "source": [
    "%pylab inline"
   ]
  },
  {
   "cell_type": "code",
   "execution_count": 3,
   "metadata": {
    "collapsed": false
   },
   "outputs": [],
   "source": [
    "summary_dir = os.path.join('results', 'disambiguate_summary')\n",
    "summary_files = [os.path.join(summary_dir, x) for x in os.listdir(summary_dir)]"
   ]
  },
  {
   "cell_type": "code",
   "execution_count": 4,
   "metadata": {
    "collapsed": true
   },
   "outputs": [],
   "source": [
    "summary_list = []\n",
    "for summary_file in summary_files:\n",
    "    summary_list.append(pd.read_table(summary_file))"
   ]
  },
  {
   "cell_type": "code",
   "execution_count": 5,
   "metadata": {
    "collapsed": false
   },
   "outputs": [],
   "source": [
    "summary_df = pd.concat(summary_list)\n",
    "summary_df.columns = ['sample', 'human', 'mouse', 'ambiguous']\n",
    "summary_df = summary_df.assign(base_sample = [x[0] for x in summary_df['sample'].str.split('_')])\n",
    "summary_df = summary_df.assign(lane = [x[2] for x in summary_df['sample'].str.split('_')])"
   ]
  },
  {
   "cell_type": "code",
   "execution_count": 6,
   "metadata": {
    "collapsed": false
   },
   "outputs": [],
   "source": [
    "total_reads = summary_df['human'] + summary_df['mouse'] + summary_df['ambiguous']\n",
    "human_percent = (summary_df['human'] / total_reads) * 100\n",
    "summary_df = summary_df.assign(human_percent = human_percent.round(1))"
   ]
  },
  {
   "cell_type": "code",
   "execution_count": 7,
   "metadata": {
    "collapsed": false
   },
   "outputs": [
    {
     "data": {
      "text/html": [
       "<div>\n",
       "<style>\n",
       "    .dataframe thead tr:only-child th {\n",
       "        text-align: right;\n",
       "    }\n",
       "\n",
       "    .dataframe thead th {\n",
       "        text-align: left;\n",
       "    }\n",
       "\n",
       "    .dataframe tbody tr th {\n",
       "        vertical-align: top;\n",
       "    }\n",
       "</style>\n",
       "<table border=\"1\" class=\"dataframe\">\n",
       "  <thead>\n",
       "    <tr style=\"text-align: right;\">\n",
       "      <th></th>\n",
       "      <th>sample</th>\n",
       "      <th>human</th>\n",
       "      <th>mouse</th>\n",
       "      <th>ambiguous</th>\n",
       "      <th>base_sample</th>\n",
       "      <th>lane</th>\n",
       "      <th>human_percent</th>\n",
       "    </tr>\n",
       "  </thead>\n",
       "  <tbody>\n",
       "    <tr>\n",
       "      <th>0</th>\n",
       "      <td>018-F0_S3_L001_001</td>\n",
       "      <td>16462539</td>\n",
       "      <td>2197374</td>\n",
       "      <td>40841</td>\n",
       "      <td>018-F0</td>\n",
       "      <td>L001</td>\n",
       "      <td>88.0</td>\n",
       "    </tr>\n",
       "    <tr>\n",
       "      <th>0</th>\n",
       "      <td>029-F0_S5_L004_001</td>\n",
       "      <td>16018400</td>\n",
       "      <td>4208045</td>\n",
       "      <td>56281</td>\n",
       "      <td>029-F0</td>\n",
       "      <td>L004</td>\n",
       "      <td>79.0</td>\n",
       "    </tr>\n",
       "    <tr>\n",
       "      <th>0</th>\n",
       "      <td>004-primary_S1_L003_001</td>\n",
       "      <td>27982301</td>\n",
       "      <td>15379</td>\n",
       "      <td>74792</td>\n",
       "      <td>004-primary</td>\n",
       "      <td>L003</td>\n",
       "      <td>99.7</td>\n",
       "    </tr>\n",
       "    <tr>\n",
       "      <th>0</th>\n",
       "      <td>004-F0_S5_L001_001</td>\n",
       "      <td>11253572</td>\n",
       "      <td>4355275</td>\n",
       "      <td>51383</td>\n",
       "      <td>004-F0</td>\n",
       "      <td>L001</td>\n",
       "      <td>71.9</td>\n",
       "    </tr>\n",
       "    <tr>\n",
       "      <th>0</th>\n",
       "      <td>008-F0_S1_L004_001</td>\n",
       "      <td>20584771</td>\n",
       "      <td>2632022</td>\n",
       "      <td>51011</td>\n",
       "      <td>008-F0</td>\n",
       "      <td>L004</td>\n",
       "      <td>88.5</td>\n",
       "    </tr>\n",
       "  </tbody>\n",
       "</table>\n",
       "</div>"
      ],
      "text/plain": [
       "                    sample     human    mouse  ambiguous  base_sample  lane  \\\n",
       "0       018-F0_S3_L001_001  16462539  2197374      40841       018-F0  L001   \n",
       "0       029-F0_S5_L004_001  16018400  4208045      56281       029-F0  L004   \n",
       "0  004-primary_S1_L003_001  27982301    15379      74792  004-primary  L003   \n",
       "0       004-F0_S5_L001_001  11253572  4355275      51383       004-F0  L001   \n",
       "0       008-F0_S1_L004_001  20584771  2632022      51011       008-F0  L004   \n",
       "\n",
       "   human_percent  \n",
       "0           88.0  \n",
       "0           79.0  \n",
       "0           99.7  \n",
       "0           71.9  \n",
       "0           88.5  "
      ]
     },
     "execution_count": 7,
     "metadata": {},
     "output_type": "execute_result"
    }
   ],
   "source": [
    "summary_df.to_csv(os.path.join('results', 'full_disambiguate_summary.tsv'), sep='\\t')\n",
    "summary_df.head()"
   ]
  },
  {
   "cell_type": "code",
   "execution_count": 8,
   "metadata": {
    "collapsed": false
   },
   "outputs": [
    {
     "data": {
      "text/html": [
       "<div>\n",
       "<style>\n",
       "    .dataframe thead tr:only-child th {\n",
       "        text-align: right;\n",
       "    }\n",
       "\n",
       "    .dataframe thead th {\n",
       "        text-align: left;\n",
       "    }\n",
       "\n",
       "    .dataframe tbody tr th {\n",
       "        vertical-align: top;\n",
       "    }\n",
       "</style>\n",
       "<table border=\"1\" class=\"dataframe\">\n",
       "  <thead>\n",
       "    <tr style=\"text-align: right;\">\n",
       "      <th></th>\n",
       "      <th>base_sample</th>\n",
       "      <th>lane</th>\n",
       "      <th>sample</th>\n",
       "      <th>human_percent</th>\n",
       "      <th>species</th>\n",
       "      <th>pairs</th>\n",
       "    </tr>\n",
       "  </thead>\n",
       "  <tbody>\n",
       "    <tr>\n",
       "      <th>0</th>\n",
       "      <td>018-F0</td>\n",
       "      <td>L001</td>\n",
       "      <td>018-F0_S3_L001_001</td>\n",
       "      <td>88.0</td>\n",
       "      <td>human</td>\n",
       "      <td>16462539</td>\n",
       "    </tr>\n",
       "    <tr>\n",
       "      <th>1</th>\n",
       "      <td>029-F0</td>\n",
       "      <td>L004</td>\n",
       "      <td>029-F0_S5_L004_001</td>\n",
       "      <td>79.0</td>\n",
       "      <td>human</td>\n",
       "      <td>16018400</td>\n",
       "    </tr>\n",
       "    <tr>\n",
       "      <th>2</th>\n",
       "      <td>004-primary</td>\n",
       "      <td>L003</td>\n",
       "      <td>004-primary_S1_L003_001</td>\n",
       "      <td>99.7</td>\n",
       "      <td>human</td>\n",
       "      <td>27982301</td>\n",
       "    </tr>\n",
       "    <tr>\n",
       "      <th>3</th>\n",
       "      <td>004-F0</td>\n",
       "      <td>L001</td>\n",
       "      <td>004-F0_S5_L001_001</td>\n",
       "      <td>71.9</td>\n",
       "      <td>human</td>\n",
       "      <td>11253572</td>\n",
       "    </tr>\n",
       "    <tr>\n",
       "      <th>4</th>\n",
       "      <td>008-F0</td>\n",
       "      <td>L004</td>\n",
       "      <td>008-F0_S1_L004_001</td>\n",
       "      <td>88.5</td>\n",
       "      <td>human</td>\n",
       "      <td>20584771</td>\n",
       "    </tr>\n",
       "  </tbody>\n",
       "</table>\n",
       "</div>"
      ],
      "text/plain": [
       "   base_sample  lane                   sample  human_percent species     pairs\n",
       "0       018-F0  L001       018-F0_S3_L001_001           88.0   human  16462539\n",
       "1       029-F0  L004       029-F0_S5_L004_001           79.0   human  16018400\n",
       "2  004-primary  L003  004-primary_S1_L003_001           99.7   human  27982301\n",
       "3       004-F0  L001       004-F0_S5_L001_001           71.9   human  11253572\n",
       "4       008-F0  L004       008-F0_S1_L004_001           88.5   human  20584771"
      ]
     },
     "execution_count": 8,
     "metadata": {},
     "output_type": "execute_result"
    }
   ],
   "source": [
    "summary_melt_df = summary_df.melt(id_vars=['base_sample', 'lane', 'sample', 'human_percent'],\n",
    "                                  value_vars=['human', 'mouse', 'ambiguous'],\n",
    "                                  var_name='species', value_name='pairs')\n",
    "summary_melt_df.head()"
   ]
  },
  {
   "cell_type": "code",
   "execution_count": 9,
   "metadata": {
    "collapsed": false
   },
   "outputs": [],
   "source": [
    "summary_melt_df.loc[summary_melt_df['species'] != 'human', 'human_percent'] = ''"
   ]
  },
  {
   "cell_type": "code",
   "execution_count": 10,
   "metadata": {
    "collapsed": false
   },
   "outputs": [
    {
     "data": {
      "image/png": "[encoded data removed]",
      "text/plain": [
       "<matplotlib.figure.Figure at 0x7f2d550d04e0>"
      ]
     },
     "metadata": {},
     "output_type": "display_data"
    },
    {
     "data": {
      "text/plain": [
       "<ggplot: (8739558046377)>"
      ]
     },
     "execution_count": 10,
     "metadata": {},
     "output_type": "execute_result"
    }
   ],
   "source": [
    "p = (\n",
    "    gg.ggplot(summary_melt_df, gg.aes(x='lane', y='pairs', fill='species')) +\n",
    "    gg.geom_bar(stat='identity', position='stack') +\n",
    "    gg.geom_text(gg.aes(y=1.5e7, label='human_percent'), size=4.5) +\n",
    "    gg.facet_wrap('~ base_sample') +\n",
    "    gg.theme_bw() +\n",
    "    gg.theme(axis_text_x=gg.element_text(angle='90'),\n",
    "             axis_text=gg.element_text(size=8),\n",
    "             axis_title=gg.element_text(size=14))\n",
    "    )\n",
    "p"
   ]
  },
  {
   "cell_type": "code",
   "execution_count": 11,
   "metadata": {
    "collapsed": false
   },
   "outputs": [],
   "source": [
    "figure_file = os.path.join('figures', 'disambiguate_results.pdf')\n",
    "gg.ggsave(p, figure_file, height=5.5, width=6.5, dpi=500)"
   ]
  }
 ],
 "metadata": {
  "kernelspec": {
   "display_name": "Python [default]",
   "language": "python",
   "name": "python3"
  },
  "language_info": {
   "codemirror_mode": {
    "name": "ipython",
    "version": 3
   },
   "file_extension": ".py",
   "mimetype": "text/x-python",
   "name": "python",
   "nbconvert_exporter": "python",
   "pygments_lexer": "ipython3",
   "version": "3.5.2"
  }
 },
 "nbformat": 4,
 "nbformat_minor": 2
}
